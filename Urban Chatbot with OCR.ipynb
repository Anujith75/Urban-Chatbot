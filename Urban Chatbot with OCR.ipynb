{
 "cells": [
  {
   "cell_type": "code",
   "execution_count": 1,
   "id": "a5c2043f-d3e6-4002-8536-56e00a6fa400",
   "metadata": {},
   "outputs": [],
   "source": [
    "from ast import While\n",
    "from sys import deactivate_stack_trampoline\n",
    "import time\n",
    "from fastapi import FastAPI, HTTPException\n",
    "from fastapi import status\n",
    "import psycopg2\n",
    "from pydantic import BaseModel\n",
    "import easyocr"
   ]
  },
  {
   "cell_type": "code",
   "execution_count": 2,
   "id": "6ef59d29-6da2-41c8-a4eb-fa15c53b27da",
   "metadata": {},
   "outputs": [
    {
     "name": "stderr",
     "output_type": "stream",
     "text": [
      "Neither CUDA nor MPS are available - defaulting to CPU. Note: This module is much faster with a GPU.\n"
     ]
    }
   ],
   "source": [
    "app = FastAPI()\n",
    "reader = easyocr.Reader(['en'])"
   ]
  },
  {
   "cell_type": "code",
   "execution_count": 3,
   "id": "5a081514-689a-4f8a-b4e6-ffe3ca2ea94e",
   "metadata": {},
   "outputs": [
    {
     "name": "stdout",
     "output_type": "stream",
     "text": [
      "Connected to DB\n"
     ]
    }
   ],
   "source": [
    "while True:\n",
    "    try:\n",
    "        conn = psycopg2.connect(database=\"postgres\", user=\"postgres.cidsbhqdqcupmmfgovdb\", password=\"brainalyst@123\", host=\"aws-0-ap-south-1.pooler.supabase.com\", port=\"5432\")\n",
    "        cursor = conn.cursor()\n",
    "        print(\"Connected to DB\")\n",
    "        break\n",
    "    except Exception as error:\n",
    "        print(\"Unable to connect to DB\")\n",
    "        time.sleep(2)\n"
   ]
  },
  {
   "cell_type": "code",
   "execution_count": 4,
   "id": "0b357779-a9df-4c4c-a03e-5915d3274b48",
   "metadata": {},
   "outputs": [],
   "source": [
    "user_id = None\n"
   ]
  },
  {
   "cell_type": "code",
   "execution_count": 5,
   "id": "55022d2e-c0d2-4f35-9ab5-03762b19d1ad",
   "metadata": {},
   "outputs": [],
   "source": [
    "def login(username:str,password:str):\n",
    "    cursor.execute(\"SELECT id FROM customers WHERE username = %s AND password = %s\",(username,password))\n",
    "    user_id = cursor.fetchone()\n",
    "    if not user_id:\n",
    "        print(\"Wrong username or password\")\n",
    "    else:\n",
    "        print(\"Login Successful\")\n",
    "        return user_id"
   ]
  },
  {
   "cell_type": "code",
   "execution_count": 6,
   "id": "3640165f-22bd-4f78-bba4-218b55dd5fff",
   "metadata": {},
   "outputs": [
    {
     "name": "stdout",
     "output_type": "stream",
     "text": [
      "\n",
      "Please Login\n"
     ]
    },
    {
     "name": "stdin",
     "output_type": "stream",
     "text": [
      "Enter username:  Abhi56\n",
      "Enter password:  asdfqw\n"
     ]
    },
    {
     "name": "stdout",
     "output_type": "stream",
     "text": [
      "Login Successful\n",
      "\n",
      "Welcome to the system, How can I help you?\n",
      "1. Property Details\n",
      "2. Add Property\n",
      "3. Update Property\n",
      "4. Scan property document\n",
      "5. Log out\n"
     ]
    },
    {
     "name": "stdin",
     "output_type": "stream",
     "text": [
      "\n",
      "Enter your choice:  4\n"
     ]
    },
    {
     "name": "stdout",
     "output_type": "stream",
     "text": [
      "Scanning--------------\n",
      "(11,)\n",
      "Name: Orchid Inn\n",
      "Address: Koramangala, Bangalore, Karnataka\n",
      "\n",
      "Property added successfully\n",
      "\n",
      "Welcome to the system, How can I help you?\n",
      "1. Property Details\n",
      "2. Add Property\n",
      "3. Update Property\n",
      "4. Scan property document\n",
      "5. Log out\n"
     ]
    },
    {
     "name": "stdin",
     "output_type": "stream",
     "text": [
      "\n",
      "Enter your choice:  5\n"
     ]
    },
    {
     "name": "stdout",
     "output_type": "stream",
     "text": [
      "Logged out success!!\n"
     ]
    }
   ],
   "source": [
    "while True:\n",
    "    print(\"\\nPlease Login\")\n",
    "    username = input(\"Enter username: \")\n",
    "    password = input(\"Enter password: \")\n",
    "    user_id = login(username=username,password=password)\n",
    "    if user_id:\n",
    "        break\n",
    "while True:\n",
    "    print(\"\\nWelcome to the system, How can I help you?\")\n",
    "    print(\"1. Property Details\")\n",
    "    print(\"2. Add Property\")\n",
    "    print(\"3. Update Property\")\n",
    "    print(\"4. Scan property document\")\n",
    "    print(\"5. Log out\")\n",
    "    option = input(\"\\nEnter your choice: \")\n",
    "    if option == '1':\n",
    "        cursor.execute(\"SELECT * FROM properties WHERE customer_id = %s\",(user_id))\n",
    "        print(\"\\n\")\n",
    "        properties = cursor.fetchall()\n",
    "        for  i in properties:\n",
    "            print(f\"Name: {i[1]}\")\n",
    "            print(f\"Address: {i[2]}, {i[3]}, {i[4]}\\n\")\n",
    "    elif option == '2':\n",
    "        name = input(\"Enter property name: \")\n",
    "        print(\"Enter property Address\")\n",
    "        street = input(\"Street: \")\n",
    "        district = input(\"District: \")\n",
    "        state = input(\"State: \")\n",
    "        cursor.execute(\"INSERT INTO properties (property_name,street,district,state,customer_id) VALUES (%s,%s,%s,%s,%s) RETURNING property_id\",(name,street,district,state,user_id))\n",
    "        property_id = cursor.fetchone()\n",
    "        print(property_id)\n",
    "        cursor.execute(\"SELECT * FROM properties WHERE property_id = %s\",(property_id))\n",
    "        properties = cursor.fetchall()\n",
    "        for  i in properties:\n",
    "            print(f\"Name: {i[1]}\")\n",
    "            print(f\"Address: {i[2]}, {i[3]}, {i[4]}\\n\")\n",
    "        conn.commit()\n",
    "        print(\"Property added successfully\")\n",
    "    elif option == '3':\n",
    "        cursor.execute(\"SELECT * FROM properties WHERE customer_id = %s\",(user_id))\n",
    "        properties = cursor.fetchall()\n",
    "        print(properties)\n",
    "        property_id = input(\"Enter property id to update: \")\n",
    "        name = input(\"Enter property name: \")\n",
    "        street = input(\"Street: \")\n",
    "        district = input(\"District: \")\n",
    "        state = input(\"State: \")\n",
    "        property_id = cursor.execute(\"UPDATE properties SET name = %s, street = %s, district = %s, state = %s WHERE id = %s returning property_id\",(name,street,district,state,property_id))\n",
    "        conn.commit()\n",
    "        print(\"Property updated successfully\")\n",
    "    elif option == '4':\n",
    "        print(\"Scanning--------------\")\n",
    "        result= reader.readtext('prop_doc.png')\n",
    "        info=[]\n",
    "        for (bbox,text,prob) in result:\n",
    "            info.append(text)\n",
    "        property_name = info[1]\n",
    "        street = info[3]\n",
    "        district = info[5]\n",
    "        state = info[7]\n",
    "        cursor.execute(\"INSERT INTO properties (property_name,street,district,state,customer_id) VALUES (%s,%s,%s,%s,%s) RETURNING property_id\",(property_name,street,district,state,user_id))\n",
    "        property_id = cursor.fetchone()\n",
    "        print(property_id)\n",
    "        cursor.execute(\"SELECT * FROM properties WHERE property_id = %s\",(property_id))\n",
    "        properties = cursor.fetchall()\n",
    "        for  i in properties:\n",
    "            print(f\"Name: {i[1]}\")\n",
    "            print(f\"Address: {i[2]}, {i[3]}, {i[4]}\\n\")\n",
    "        conn.commit()\n",
    "        print(\"Property added successfully\")\n",
    "        info.clear()\n",
    "    elif option == '5':\n",
    "        print(\"Logged out success!!\")\n",
    "        break\n",
    "    else:\n",
    "        print(\"Invalid option\")\n",
    "    "
   ]
  },
  {
   "cell_type": "code",
   "execution_count": null,
   "id": "bafb0618-bdfe-4767-bb86-24f2cb1ff6ec",
   "metadata": {},
   "outputs": [],
   "source": []
  },
  {
   "cell_type": "code",
   "execution_count": null,
   "id": "1a516e22-4a08-419e-890f-721f4cb86882",
   "metadata": {},
   "outputs": [],
   "source": []
  }
 ],
 "metadata": {
  "kernelspec": {
   "display_name": "Python 3 (ipykernel)",
   "language": "python",
   "name": "python3"
  },
  "language_info": {
   "codemirror_mode": {
    "name": "ipython",
    "version": 3
   },
   "file_extension": ".py",
   "mimetype": "text/x-python",
   "name": "python",
   "nbconvert_exporter": "python",
   "pygments_lexer": "ipython3",
   "version": "3.12.3"
  }
 },
 "nbformat": 4,
 "nbformat_minor": 5
}
